{
 "cells": [
  {
   "cell_type": "code",
   "execution_count": 2,
   "metadata": {},
   "outputs": [
    {
     "name": "stdout",
     "output_type": "stream",
     "text": [
      "False\n",
      "True\n"
     ]
    }
   ],
   "source": [
    "# função que verifica se o parametro b é um divisor de a\n",
    "def is_divisor(a, b):\n",
    "  if a % b == 0:\n",
    "    div = ('True')\n",
    "  else:\n",
    "    div = ('False')\n",
    "  return div\n",
    "print(is_divisor(25, 7))\n",
    "print(is_divisor(25, 5))"
   ]
  },
  {
   "cell_type": "code",
   "execution_count": 1,
   "metadata": {},
   "outputs": [
    {
     "name": "stdout",
     "output_type": "stream",
     "text": [
      "False\n",
      "True\n"
     ]
    },
    {
     "ename": "AssertionError",
     "evalue": "b não pode valr zero",
     "output_type": "error",
     "traceback": [
      "\u001b[1;31m---------------------------------------------------------------------------\u001b[0m",
      "\u001b[1;31mAssertionError\u001b[0m                            Traceback (most recent call last)",
      "Cell \u001b[1;32mIn[1], line 11\u001b[0m\n\u001b[0;32m      9\u001b[0m \u001b[38;5;28mprint\u001b[39m(is_divisor(\u001b[38;5;241m25\u001b[39m, \u001b[38;5;241m7\u001b[39m))\n\u001b[0;32m     10\u001b[0m \u001b[38;5;28mprint\u001b[39m(is_divisor(\u001b[38;5;241m25\u001b[39m, \u001b[38;5;241m5\u001b[39m))\n\u001b[1;32m---> 11\u001b[0m \u001b[38;5;28mprint\u001b[39m(is_divisor(\u001b[38;5;241m25\u001b[39m, \u001b[38;5;241m0\u001b[39m))\n",
      "Cell \u001b[1;32mIn[1], line 3\u001b[0m, in \u001b[0;36mis_divisor\u001b[1;34m(a, b)\u001b[0m\n\u001b[0;32m      2\u001b[0m \u001b[38;5;28;01mdef\u001b[39;00m \u001b[38;5;21mis_divisor\u001b[39m(a, b):\n\u001b[1;32m----> 3\u001b[0m   \u001b[38;5;28;01massert\u001b[39;00m b \u001b[38;5;241m!=\u001b[39m \u001b[38;5;241m0\u001b[39m, \u001b[38;5;124m'\u001b[39m\u001b[38;5;124mb não pode valr zero\u001b[39m\u001b[38;5;124m'\u001b[39m\n\u001b[0;32m      4\u001b[0m   \u001b[38;5;28;01mif\u001b[39;00m a \u001b[38;5;241m%\u001b[39m b \u001b[38;5;241m==\u001b[39m \u001b[38;5;241m0\u001b[39m:\n\u001b[0;32m      5\u001b[0m     div \u001b[38;5;241m=\u001b[39m (\u001b[38;5;124m'\u001b[39m\u001b[38;5;124mTrue\u001b[39m\u001b[38;5;124m'\u001b[39m)\n",
      "\u001b[1;31mAssertionError\u001b[0m: b não pode valr zero"
     ]
    }
   ],
   "source": [
    "# função que verifica se o parametro b é um divisor de a, e garante que b é diferente de 0\n",
    "def is_divisor(a, b):\n",
    "  assert b != 0, 'b não pode valr zero'\n",
    "  if a % b == 0:\n",
    "    div = ('True')\n",
    "  else:\n",
    "    div = ('False')\n",
    "  return div\n",
    "print(is_divisor(25, 7))\n",
    "print(is_divisor(25, 5))\n",
    "print(is_divisor(25, 0))"
   ]
  },
  {
   "cell_type": "code",
   "execution_count": null,
   "metadata": {},
   "outputs": [],
   "source": []
  }
 ],
 "metadata": {
  "kernelspec": {
   "display_name": "fiscomp",
   "language": "python",
   "name": "python3"
  },
  "language_info": {
   "codemirror_mode": {
    "name": "ipython",
    "version": 3
   },
   "file_extension": ".py",
   "mimetype": "text/x-python",
   "name": "python",
   "nbconvert_exporter": "python",
   "pygments_lexer": "ipython3",
   "version": "3.13.2"
  }
 },
 "nbformat": 4,
 "nbformat_minor": 2
}
