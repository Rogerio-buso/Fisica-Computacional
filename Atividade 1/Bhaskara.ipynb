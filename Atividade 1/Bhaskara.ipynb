{
 "cells": [
  {
   "cell_type": "code",
   "execution_count": 1,
   "metadata": {},
   "outputs": [
    {
     "name": "stdout",
     "output_type": "stream",
     "text": [
      "As raizes são 1.0 e -7.0\n",
      "As raizes são -1.0 e -4.0\n",
      "As raizes são (-0.9999999999999999+1.4142135623730951j) e (-1-1.4142135623730951j)\n",
      "As raizes são -0.5 e 3.0\n"
     ]
    }
   ],
   "source": [
    "# função que calcula as raízes de um polinômio de 2° grau\n",
    "def bhaskara(a, b, c):\n",
    "  x1 = (-b + ((b**2 - 4*a*c)**(1/2)))/(2*a)\n",
    "  x2 = (-b - (b**2 - 4*a*c)**(1/2))/(2*a)\n",
    "  return x1, x2\n",
    "\n",
    "x1, x2 = bhaskara(2, 12, -14)\n",
    "print(f'As raizes são {x1} e {x2}')\n",
    "x1, x2 = bhaskara(1, 5, 4)\n",
    "print(f'As raizes são {x1} e {x2}')\n",
    "x1, x2 = bhaskara(1, 2, 3)\n",
    "print(f'As raizes são {x1} e {x2}')\n",
    "x1, x2 = bhaskara(-2, 5, 3)\n",
    "print(f'As raizes são {x1} e {x2}')"
   ]
  },
  {
   "cell_type": "code",
   "execution_count": null,
   "metadata": {},
   "outputs": [],
   "source": [
    "# função que calcula as raízes de um polinômio de 2° grau, mesmo quando a = 0\n",
    "def bhaskara(a, b, c):\n",
    "  if a == 0: #Resolve o problema da divisão por 0\n",
    "    x1 = -c/b\n",
    "    x2 = x1\n",
    "  else:\n",
    "    x1 = (-b + ((b**2 - 4*a*c)**(1/2)))/(2*a)\n",
    "    x2 = (-b - (b**2 - 4*a*c)**(1/2))/(2*a)\n",
    "  return x1, x2\n",
    "x1, x2 = bhaskara(0, 2, 3)\n",
    "print(f'As raizes são {x1} e {x2}')\n"
   ]
  },
  {
   "cell_type": "code",
   "execution_count": null,
   "metadata": {},
   "outputs": [],
   "source": [
    "def bhaskara(a, b, c):\n",
    "  delta = (b**2 - 4*a*c)\n",
    "  assert a != 0, 'o a vale 0'\n",
    "  assert delta >= 0, 'raiz complexa'\n",
    "  x1 = (-b + ((delta)**(1/2)))/(2*a)\n",
    "  x2 = (-b - (delta)**(1/2))/(2*a)\n",
    "  return x1, x2\n",
    "x1, x2 = bhaskara(1, 5, 4)\n",
    "print(f'As raizes são {x1} e {x2}')\n",
    "x1, x2 = bhaskara(1, 2, 3)\n",
    "print(f'As raizes são {x1} e {x2}')"
   ]
  }
 ],
 "metadata": {
  "kernelspec": {
   "display_name": "fiscomp",
   "language": "python",
   "name": "python3"
  },
  "language_info": {
   "codemirror_mode": {
    "name": "ipython",
    "version": 3
   },
   "file_extension": ".py",
   "mimetype": "text/x-python",
   "name": "python",
   "nbconvert_exporter": "python",
   "pygments_lexer": "ipython3",
   "version": "3.13.2"
  }
 },
 "nbformat": 4,
 "nbformat_minor": 2
}
