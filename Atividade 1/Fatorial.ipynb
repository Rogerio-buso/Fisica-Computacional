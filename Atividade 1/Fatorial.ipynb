{
 "cells": [
  {
   "cell_type": "code",
   "execution_count": 1,
   "metadata": {},
   "outputs": [
    {
     "name": "stdout",
     "output_type": "stream",
     "text": [
      "120\n",
      "3628800\n",
      "1\n"
     ]
    }
   ],
   "source": [
    "# função que lê um número e retorna seu fatorial\n",
    "def fatorial(n):\n",
    "  if n == 0: # condição \"especial\"\n",
    "    return 1\n",
    "  else:\n",
    "    for i in range (1, n): # loop responsável por calcular o fatorial\n",
    "      n *= i\n",
    "    return n\n",
    "\n",
    "print(fatorial(5))\n",
    "print(fatorial(10))\n",
    "print(fatorial(0))"
   ]
  },
  {
   "cell_type": "code",
   "execution_count": 2,
   "metadata": {},
   "outputs": [
    {
     "name": "stdout",
     "output_type": "stream",
     "text": [
      "120\n",
      "3628800\n",
      "1\n"
     ]
    }
   ],
   "source": [
    "# função que calcula o fatorial de um numero utilizando recursividade\n",
    "def fatorial(n):\n",
    "    if n == 0 or n == 1: # caso base da função\n",
    "        return 1\n",
    "    else:\n",
    "        return n * fatorial(n - 1) # loop que permite calcular o fatorial\n",
    "print(fatorial(5))\n",
    "print(fatorial(10))\n",
    "print(fatorial(0))"
   ]
  },
  {
   "cell_type": "code",
   "execution_count": 3,
   "metadata": {},
   "outputs": [
    {
     "name": "stdout",
     "output_type": "stream",
     "text": [
      "120\n",
      "3628800\n",
      "1\n"
     ]
    }
   ],
   "source": [
    "# função que um parâmetro e retorna seu fatorial usando laço while\n",
    "def fatorial(n):\n",
    "  i = 1\n",
    "  fat = 1\n",
    "  if n == 0: # condicioda o fatorial de 0 = 1\n",
    "    return 1\n",
    "  else:\n",
    "    while i < (n + 1): # loop que calcula o fatorial\n",
    "      fat *= i\n",
    "      i += 1\n",
    "    return fat\n",
    "print(fatorial(5))\n",
    "print(fatorial(10))\n",
    "print(fatorial(0))"
   ]
  },
  {
   "cell_type": "code",
   "execution_count": 4,
   "metadata": {},
   "outputs": [
    {
     "name": "stdout",
     "output_type": "stream",
     "text": [
      "120\n",
      "3628800\n",
      "1\n"
     ]
    },
    {
     "ename": "AssertionError",
     "evalue": "erro no parametro de entrada",
     "output_type": "error",
     "traceback": [
      "\u001b[1;31m---------------------------------------------------------------------------\u001b[0m",
      "\u001b[1;31mAssertionError\u001b[0m                            Traceback (most recent call last)",
      "Cell \u001b[1;32mIn[4], line 11\u001b[0m\n\u001b[0;32m      9\u001b[0m \u001b[38;5;28mprint\u001b[39m(fatorial(\u001b[38;5;241m10\u001b[39m))\n\u001b[0;32m     10\u001b[0m \u001b[38;5;28mprint\u001b[39m(fatorial(\u001b[38;5;241m0\u001b[39m))\n\u001b[1;32m---> 11\u001b[0m \u001b[38;5;28mprint\u001b[39m(fatorial(\u001b[38;5;28;01mTrue\u001b[39;00m))\n",
      "Cell \u001b[1;32mIn[4], line 3\u001b[0m, in \u001b[0;36mfatorial\u001b[1;34m(n)\u001b[0m\n\u001b[0;32m      2\u001b[0m \u001b[38;5;28;01mdef\u001b[39;00m \u001b[38;5;21mfatorial\u001b[39m(n):\n\u001b[1;32m----> 3\u001b[0m   \u001b[38;5;28;01massert\u001b[39;00m \u001b[38;5;28mtype\u001b[39m(n)\u001b[38;5;241m==\u001b[39m\u001b[38;5;28mint\u001b[39m, \u001b[38;5;124m'\u001b[39m\u001b[38;5;124merro no parametro de entrada\u001b[39m\u001b[38;5;124m'\u001b[39m \u001b[38;5;66;03m# limita o parametro de entrada\u001b[39;00m\n\u001b[0;32m      4\u001b[0m   \u001b[38;5;28;01mif\u001b[39;00m n \u001b[38;5;241m==\u001b[39m \u001b[38;5;241m0\u001b[39m \u001b[38;5;129;01mor\u001b[39;00m n \u001b[38;5;241m==\u001b[39m \u001b[38;5;241m1\u001b[39m: \u001b[38;5;66;03m# caso base da função\u001b[39;00m\n\u001b[0;32m      5\u001b[0m       \u001b[38;5;28;01mreturn\u001b[39;00m \u001b[38;5;241m1\u001b[39m\n",
      "\u001b[1;31mAssertionError\u001b[0m: erro no parametro de entrada"
     ]
    }
   ],
   "source": [
    "# função que calcula o fatorial de um numero utilizando recursividade e assert\n",
    "def fatorial(n):\n",
    "  assert type(n)==int, 'erro no parametro de entrada' # limita o parametro de entrada\n",
    "  if n == 0 or n == 1: # caso base da função\n",
    "      return 1\n",
    "  else:\n",
    "      return n * fatorial(n - 1) # loop que permite calcular o fatorial\n",
    "print(fatorial(5))\n",
    "print(fatorial(10))\n",
    "print(fatorial(0))\n",
    "print(fatorial(True))"
   ]
  }
 ],
 "metadata": {
  "kernelspec": {
   "display_name": "fiscomp",
   "language": "python",
   "name": "python3"
  },
  "language_info": {
   "codemirror_mode": {
    "name": "ipython",
    "version": 3
   },
   "file_extension": ".py",
   "mimetype": "text/x-python",
   "name": "python",
   "nbconvert_exporter": "python",
   "pygments_lexer": "ipython3",
   "version": "3.13.2"
  }
 },
 "nbformat": 4,
 "nbformat_minor": 2
}
