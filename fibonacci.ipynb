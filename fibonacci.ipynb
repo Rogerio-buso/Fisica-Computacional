{
 "cells": [
  {
   "cell_type": "code",
   "execution_count": null,
   "metadata": {},
   "outputs": [],
   "source": [
    "# função que calcula seq. de fibonacci\n",
    "def fibonacci(n):\n",
    "  t1 = 0\n",
    "  t2 = 1\n",
    "  i = 3\n",
    "  a = [0, 1]\n",
    "  for i in range (3, n + 1):\n",
    "    t3 = t1 + t2\n",
    "    a += [t3]\n",
    "    t1 = t2\n",
    "    t2 = t3\n",
    "    i += 1\n",
    "  return a\n",
    "print(fibonacci(20))\n",
    "print(fibonacci(5))"
   ]
  },
  {
   "cell_type": "code",
   "execution_count": null,
   "metadata": {},
   "outputs": [],
   "source": [
    "# função que calcula seq. de fibonacci e a mostra inteira ou o n-esimo termo\n",
    "def fibonacci(n, lista_completa=True):\n",
    "  t1 = 0\n",
    "  t2 = 1\n",
    "  i = 3\n",
    "  a = [0, 1]\n",
    "  for i in range (3, n + 1): # laço responsável por calcular a seq.\n",
    "    t3 = t1 + t2\n",
    "    a += [t3]\n",
    "    t1 = t2\n",
    "    t2 = t3\n",
    "    i += 1\n",
    "  if lista_completa == False: # condiciona se o que aparece é a seq. toda ou apenas o ultimo termo\n",
    "    return t3\n",
    "  else:\n",
    "    return a\n",
    "\n",
    "print(fibonacci(20))\n",
    "print(fibonacci(20, False))\n",
    "print(fibonacci(5))\n",
    "print(fibonacci(5, False))"
   ]
  },
  {
   "cell_type": "code",
   "execution_count": null,
   "metadata": {},
   "outputs": [],
   "source": [
    "# função que calcula seq. de fibonacci e a mostra inteira ou o n-esimo termo\n",
    "def fibonacci(n: int, lista_completa=True):\n",
    "  assert type(n) == int or type(lista_completa) == bool, 'erro no parâmetro de entrada' # assegura que n é inteiro e lista_completa é booleano\n",
    "  t1 = 0\n",
    "  t2 = 1\n",
    "  i = 3\n",
    "  a = [0, 1]\n",
    "  for i in range (3, n + 1): # laço responsável por calcular a seq.\n",
    "    t3 = t1 + t2\n",
    "    a += [t3]\n",
    "    t1 = t2\n",
    "    t2 = t3\n",
    "    i += 1\n",
    "  if lista_completa == False: # condiciona se o que aparece é a seq. toda ou apenas o ultimo termo\n",
    "    return t3\n",
    "  else:\n",
    "    return a\n",
    "\n",
    "print(fibonacci(20, False))\n",
    "print(fibonacci(5))\n",
    "print(fibonacci(5, False))\n",
    "print(fibonacci(6, 7))"
   ]
  }
 ],
 "metadata": {
  "language_info": {
   "name": "python"
  }
 },
 "nbformat": 4,
 "nbformat_minor": 2
}
